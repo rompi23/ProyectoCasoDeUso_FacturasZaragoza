{
  "nbformat": 4,
  "nbformat_minor": 0,
  "metadata": {
    "colab": {
      "provenance": []
    },
    "kernelspec": {
      "name": "python3",
      "display_name": "Python 3"
    },
    "language_info": {
      "name": "python"
    }
  },
  "cells": [
    {
      "cell_type": "code",
      "execution_count": 5,
      "metadata": {
        "colab": {
          "base_uri": "https://localhost:8080/"
        },
        "id": "5FbnD3cjVp4L",
        "outputId": "1079219e-9115-4eb0-f3fe-8e45c7f82ccb"
      },
      "outputs": [
        {
          "output_type": "stream",
          "name": "stdout",
          "text": [
            " MAE: 5301872.77\n",
            " RMSE: 5752853.80\n",
            " R² Score: 0.13\n",
            " Predicción de Importe Total para el año 2026: €13,732,951.33\n"
          ]
        }
      ],
      "source": [
        "import pandas as pd\n",
        "import numpy as np\n",
        "import seaborn as sns\n",
        "import matplotlib.pyplot as plt\n",
        "from sklearn.model_selection import train_test_split, cross_val_score\n",
        "from sklearn.ensemble import RandomForestRegressor\n",
        "from sklearn.metrics import mean_absolute_error, mean_squared_error, r2_score\n",
        "import pickle\n",
        "\n",
        "\n",
        "df = pd.read_csv(\"facturas_procesadas.csv\")\n",
        "\n",
        "# agrupar importes por año\n",
        "df_agg = df.groupby(\"year\")[\"importe\"].sum().reset_index()\n",
        "\n",
        "# crear nuevas clases para mejorar la prediccion\n",
        "df_agg[\"importe_anterior\"] = df_agg[\"importe\"].shift(1)  # Importe del año anterior\n",
        "df_agg[\"variacion_anual\"] = df_agg[\"importe\"] - df_agg[\"importe_anterior\"]  # Cambio de un año a otro\n",
        "df_agg[\"tasa_crecimiento\"] = df_agg[\"variacion_anual\"] / df_agg[\"importe_anterior\"]  # % de crecimiento\n",
        "df_agg = df_agg.fillna(0)\n",
        "\n",
        "\n",
        "# crear nuevas variables  X e y\n",
        "X_regresion = df_agg[[\"year\", \"importe_anterior\", \"variacion_anual\", \"tasa_crecimiento\"]]\n",
        "y_regresion = df_agg[\"importe\"]\n",
        "\n",
        "# dividir en conjunto de entrenamiento (80%) y prueba (20%)\n",
        "X_train, X_test, y_train, y_test = train_test_split(X_regresion, y_regresion, test_size=0.2, random_state=42)\n",
        "\n",
        "# entrenar el modelo de regresion RandomForest\n",
        "modelo_regresion = RandomForestRegressor(n_estimators=100, random_state=42)\n",
        "modelo_regresion.fit(X_train, y_train)\n",
        "\n",
        "# evaluacion del modelo\n",
        "y_pred = modelo_regresion.predict(X_test)\n",
        "mae = mean_absolute_error(y_test, y_pred)\n",
        "rmse = np.sqrt(mean_squared_error(y_test, y_pred))\n",
        "r2 = r2_score(y_test, y_pred)\n",
        "\n",
        "print(f\" MAE: {mae:.2f}\")\n",
        "print(f\" RMSE: {rmse:.2f}\")\n",
        "print(f\" R² Score: {r2:.2f}\")\n",
        "\n",
        "\n",
        "\n",
        "# predecir el importe total del proximo año\n",
        "proximo_anio = df_agg[\"year\"].max() + 1\n",
        "ultimo_importe = df_agg[\"importe\"].iloc[-1]\n",
        "variacion = df_agg[\"variacion_anual\"].iloc[-1]\n",
        "tasa = df_agg[\"tasa_crecimiento\"].iloc[-1]\n",
        "\n",
        "entrada_nueva = pd.DataFrame([[proximo_anio, ultimo_importe, variacion, tasa]],\n",
        "                              columns=[\"year\", \"importe_anterior\", \"variacion_anual\", \"tasa_crecimiento\"])\n",
        "prediccion = modelo_regresion.predict(entrada_nueva)\n",
        "\n",
        "print(f\" Predicción de Importe Total para el año {proximo_anio}: €{prediccion[0]:,.2f}\")\n",
        "\n",
        "\n",
        "with open(\"modelo_prediccion_anual.pkl\", \"wb\") as f:\n",
        "    pickle.dump(modelo_regresion, f)\n",
        "\n",
        "\n"
      ]
    }
  ]
}