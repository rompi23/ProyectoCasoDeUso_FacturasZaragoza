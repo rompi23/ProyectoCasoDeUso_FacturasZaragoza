{
  "nbformat": 4,
  "nbformat_minor": 0,
  "metadata": {
    "colab": {
      "provenance": []
    },
    "kernelspec": {
      "name": "python3",
      "display_name": "Python 3"
    },
    "language_info": {
      "name": "python"
    }
  },
  "cells": [
    {
      "cell_type": "code",
      "execution_count": 1,
      "metadata": {
        "id": "pOKUCuCyFEon"
      },
      "outputs": [],
      "source": [
        "import pandas as pd\n",
        "import numpy as np\n",
        "from sklearn.preprocessing import LabelEncoder\n",
        "\n",
        "\n",
        "df = pd.read_csv(\"dataset_Zaragoza.csv\")\n",
        "\n",
        "# eliminar columnas innecesarias\n",
        "columnas_a_eliminar = [\"id\", \"numero\", \"status\", \"fecha\", \"cifproveedor\"]\n",
        "df = df.drop(columns=columnas_a_eliminar)\n",
        "\n",
        "# convertir variables categoricas a numericas\n",
        "encoder = LabelEncoder()\n",
        "columnas_a_codificar = [\"title\", \"entidad\", \"proveedor\"]\n",
        "\n",
        "for col in columnas_a_codificar:\n",
        "    df[col + \"_encoded\"] = encoder.fit_transform(df[col])\n",
        "    df = df.drop(columns=[col])\n",
        "\n",
        "# aqui creo nuevas caracteristicas\n",
        "df[\"importe_categoria\"] = pd.cut(df[\"importe\"], bins=[0, 500, 2000, np.inf], labels=[\"bajo\", \"medio\", \"alto\"])\n",
        "df[\"facturas_por_proveedor\"] = df.groupby(\"proveedor_encoded\")[\"proveedor_encoded\"].transform(\"count\")\n",
        "df[\"importe_promedio_por_año\"] = df.groupby(\"year\")[\"importe\"].transform(\"mean\")\n",
        "df[\"importe_relativo_al_proveedor\"] = df[\"importe\"] / df.groupby(\"proveedor_encoded\")[\"importe\"].transform(\"mean\")\n",
        "df[\"diferencia_con_media_importe\"] = df[\"importe\"] - df[\"importe\"].mean()\n",
        "\n",
        "\n",
        "df.to_csv(\"facturas_procesadas.csv\", index=False)\n",
        "\n",
        "\n"
      ]
    }
  ]
}